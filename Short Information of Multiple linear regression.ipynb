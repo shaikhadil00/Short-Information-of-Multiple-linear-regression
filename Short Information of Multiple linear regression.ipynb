{
 "cells": [
  {
   "cell_type": "markdown",
   "id": "c15d02a5",
   "metadata": {},
   "source": [
    "When there is only one independent n dependent variable is there then it is known as simple linear regression \n",
    "                               \n",
    "  Formula ---------------> y = mx + c"
   ]
  },
  {
   "cell_type": "markdown",
   "id": "2b0bf079",
   "metadata": {},
   "source": [
    "When there is more than one independent  variable then it is known as Multiple linear regression \n",
    "\n",
    "     Formula ---------------> y = m1x1 + m2x2 + m3x3 + .......MnXn + c\n",
    "                               \n",
    "                               where m = coefficent of regression\n",
    "                                     x1 x2 x3 = independent variable\n",
    "                                     y = dependent variable\n",
    "                                     \n",
    " NOTE :- Entity(independent) which have higher order coefficent of regression leads to most imp in output"
   ]
  },
  {
   "cell_type": "markdown",
   "id": "e6f42fe8",
   "metadata": {},
   "source": [
    "# Multiple linear regression Application "
   ]
  },
  {
   "cell_type": "markdown",
   "id": "9928f093",
   "metadata": {},
   "source": [
    "used when we would like to identify the strength of the effect that the independent variable have on the dependent variable"
   ]
  },
  {
   "cell_type": "markdown",
   "id": "e97e14e4",
   "metadata": {},
   "source": [
    "## for example :- revision times , test anxiety , lec attendance and gender have any effect on exam performance of student"
   ]
  },
  {
   "cell_type": "markdown",
   "id": "79095a8b",
   "metadata": {},
   "source": [
    "Dependent variable are :- revision times , test anxiety , lec attendance and gender \n",
    "    \n",
    "    And the least affect is \"gender\""
   ]
  },
  {
   "cell_type": "markdown",
   "id": "b7c32326",
   "metadata": {},
   "source": [
    "# Bullet Points :-\n",
    "\n",
    "1] It is used to predict the impact of changes \n",
    "\n",
    "2] To understand how the dependent variable changes\n",
    "\n",
    "3] when we change the independent variables"
   ]
  },
  {
   "cell_type": "code",
   "execution_count": null,
   "id": "ed79aeaa",
   "metadata": {},
   "outputs": [],
   "source": [
    "Multiple linear regression is a method of predicting continuous variable\n",
    "\n",
    "for Example :- sales , 22.7/pie value 23.4kg etc"
   ]
  }
 ],
 "metadata": {
  "kernelspec": {
   "display_name": "Python 3 (ipykernel)",
   "language": "python",
   "name": "python3"
  },
  "language_info": {
   "codemirror_mode": {
    "name": "ipython",
    "version": 3
   },
   "file_extension": ".py",
   "mimetype": "text/x-python",
   "name": "python",
   "nbconvert_exporter": "python",
   "pygments_lexer": "ipython3",
   "version": "3.9.13"
  }
 },
 "nbformat": 4,
 "nbformat_minor": 5
}
